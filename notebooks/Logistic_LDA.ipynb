{
 "metadata": {
  "language_info": {
   "codemirror_mode": {
    "name": "ipython",
    "version": 3
   },
   "file_extension": ".py",
   "mimetype": "text/x-python",
   "name": "python",
   "nbconvert_exporter": "python",
   "pygments_lexer": "ipython3",
   "version": "3.6.8-final"
  },
  "orig_nbformat": 2,
  "kernelspec": {
   "name": "python_defaultSpec_1600519957721",
   "display_name": "Python 3.6.8 64-bit"
  }
 },
 "nbformat": 4,
 "nbformat_minor": 2,
 "cells": [
  {
   "source": [
    "# Logistic LDA with Prelim News Data\n",
    "## 1, Read Data"
   ],
   "cell_type": "markdown",
   "metadata": {}
  },
  {
   "source": [
    "import pandas as pd\n",
    "merged_data2 = pd.read_pickle(\"../data/data_20200823.pkl\")"
   ],
   "cell_type": "code",
   "metadata": {},
   "execution_count": 2,
   "outputs": []
  },
  {
   "source": [
    "## 2, Data Cleaning"
   ],
   "cell_type": "markdown",
   "metadata": {}
  },
  {
   "source": [
    "import nltk\n",
    "import string\n",
    "from nltk.corpus import stopwords\n",
    "from nltk.stem.porter import PorterStemmer\n",
    "import re\n",
    "def textPrecessing(text):\n",
    "    text = text.lower()\n",
    "    text = \" \".join([word for word in text.split(\" \") if not word.startswith(\"http\")])\n",
    "    text = re.sub('[^A-Za-z ]+', '', text)\n",
    "\n",
    "    wordLst = nltk.word_tokenize(text)\n",
    "    stop_words = stopwords.words('english')\n",
    "    #word that found inrelevant when evaluation\n",
    "    stop_words.extend(['said','would','also','say','says','saying'])\n",
    "    filtered = [w for w in wordLst if w not in stop_words]\n",
    "\n",
    "    ps = PorterStemmer()\n",
    "    filtered = [ps.stem(w) for w in filtered]\n",
    "\n",
    "    return \" \".join(filtered)"
   ],
   "cell_type": "code",
   "metadata": {},
   "execution_count": 3,
   "outputs": []
  },
  {
   "cell_type": "code",
   "execution_count": 9,
   "metadata": {},
   "outputs": [],
   "source": [
    "output = [textPrecessing(doc) for doc in merged_data2.Content]"
   ]
  },
  {
   "cell_type": "code",
   "execution_count": 11,
   "metadata": {},
   "outputs": [
    {
     "output_type": "execute_result",
     "data": {
      "text/plain": "'vladimir putin claim russia race develop coronaviru vaccin chief white hous correspond john robert reportspresid trump plan hold news confer sunday even regard potenti major therapeut breakthrough treat coronavirusth presid announc develop pm accompani health human servic secretari alex azar dr stephen hahn head food drug administr white hous press secretari kayleigh mcenani post twitter late saturdayearli day presid suggest someon fda purpos tri delay clinic trial therapeut vaccin polit purposesobvi hope delay answer novemb rd trump tweet refer elect day must focu speed save livestrump accus deep state fda thwart effort fro coroanviru treatment elect presid didnt expand accus provid evidencehous speaker nanci pelosi quickli rebuk presid accus dangerousth fda respons approv drug judg safeti efficaci declar white hous speed politic fda pelosi news confer capitol hill accord hillthi danger statement part presid even went beyond pale term jeopard health wellb american peoplescientist around world race creat safe effect vaccin viru usual yearslong processtrump earlier month balanc speed safeti american could vaccin mayb far advanc end yeardr anthoni fauci nation top infecti diseas expert he cautious optimist vaccin could avail end year earli next year like wouldnt wide avail later next year earliest even vaccin unlik close effect saidclick complet coronaviru coveragea patient recov viru report linger symptom like fever short breath chronic fatigu one young patient improv three week rest saw symptom return sporad past five monthsth head world health organ tedro adhanom ghebreyesu possibl viru could within two yearsw hope finish pandem less two year especi pool effort fridayth viru kill peopl us accord center diseas control prevent'"
     },
     "metadata": {},
     "execution_count": 11
    }
   ],
   "source": [
    "output[0]"
   ]
  },
  {
   "source": [
    "## 3, Save Tokenized Documents"
   ],
   "cell_type": "markdown",
   "metadata": {}
  },
  {
   "cell_type": "code",
   "execution_count": null,
   "metadata": {},
   "outputs": [],
   "source": [
    "output.to_pickle(\"data_20200823.pkl\")"
   ]
  },
  {
   "source": [
    "## Extra read sample pickle"
   ],
   "cell_type": "markdown",
   "metadata": {}
  },
  {
   "cell_type": "code",
   "execution_count": 12,
   "metadata": {},
   "outputs": [],
   "source": [
    "import pandas as pd\n",
    "merged_data2 = pd.read_pickle(\"../data/tokenized_ng20_train.pkl\")"
   ]
  },
  {
   "cell_type": "code",
   "execution_count": 15,
   "metadata": {},
   "outputs": [
    {
     "output_type": "execute_result",
     "data": {
      "text/plain": "dict_keys(['x', 'y', 'topic_names'])"
     },
     "metadata": {},
     "execution_count": 15
    }
   ],
   "source": [
    "merged_data2.keys()"
   ]
  },
  {
   "cell_type": "code",
   "execution_count": 21,
   "metadata": {},
   "outputs": [
    {
     "output_type": "execute_result",
     "data": {
      "text/plain": "20"
     },
     "metadata": {},
     "execution_count": 21
    }
   ],
   "source": [
    "len(merged_data2['topic_names'])\n"
   ]
  },
  {
   "cell_type": "code",
   "execution_count": 24,
   "metadata": {},
   "outputs": [
    {
     "output_type": "execute_result",
     "data": {
      "text/plain": "['alt',\n 'atheism',\n 'faq',\n 'atheist',\n 'resource',\n 'archive',\n 'atheism',\n 'resource',\n 'alt',\n 'atheism',\n 'archive',\n 'resource',\n 'modified',\n 'december',\n 'version',\n 'atheist',\n 'resource',\n 'address',\n 'atheist',\n 'organization',\n 'usa',\n 'freedom',\n 'religion',\n 'foundation',\n 'darwin',\n 'fish',\n 'bumper',\n 'sticker',\n 'assort',\n 'atheist',\n 'paraphernalia',\n 'available',\n 'freedom',\n 'religion',\n 'foundation',\n 'write',\n 'ffrf',\n 'box',\n 'madison',\n 'wi',\n 'telephone',\n 'evolution',\n 'design',\n 'evolution',\n 'design',\n 'sell',\n 'darwin',\n 'fish',\n 'fish',\n 'symbol',\n 'like',\n 'one',\n 'christian',\n 'stick',\n 'car',\n 'foot',\n 'word',\n 'darwin',\n 'write',\n 'inside',\n 'deluxe',\n 'mould',\n 'plastic',\n 'fish',\n 'postpaid',\n 'write',\n 'evolution',\n 'design',\n 'laurel',\n 'canyon',\n 'north',\n 'hollywood',\n 'ca',\n 'people',\n 'san',\n 'francisco',\n 'bay',\n 'area',\n 'darwin',\n 'fish',\n 'lynn',\n 'gold',\n 'try',\n 'mail',\n 'figmo',\n 'netcom',\n 'com',\n 'net',\n 'people',\n 'lynn',\n 'directly',\n 'price',\n 'fish',\n 'american',\n 'atheist',\n 'press',\n 'aap',\n 'publish',\n 'various',\n 'atheist',\n 'book',\n 'critique',\n 'bible',\n 'list',\n 'biblical',\n 'contradiction',\n 'book',\n 'bible',\n 'handbook',\n 'ball',\n 'foote',\n 'american',\n 'atheist',\n 'press',\n 'pp',\n 'isbn',\n 'nd',\n 'edition',\n 'bible',\n 'contradiction',\n 'absurdity',\n 'atrocity',\n 'immorality',\n 'contain',\n 'ball',\n 'foote',\n 'bible',\n 'contradicts',\n 'aap',\n 'base',\n 'king',\n 'jam',\n 'version',\n 'bible',\n 'write',\n 'american',\n 'atheist',\n 'press',\n 'box',\n 'austin',\n 'tx',\n 'cameron',\n 'road',\n 'austin',\n 'tx',\n 'telephone',\n 'fax',\n 'prometheus',\n 'book',\n 'sell',\n 'book',\n 'include',\n 'haught',\n 'holy',\n 'horror',\n 'write',\n 'east',\n 'amherst',\n 'street',\n 'buffalo',\n 'new',\n 'york',\n 'telephone',\n 'alternate',\n 'address',\n 'new',\n 'old',\n 'prometheus',\n 'book',\n 'glenn',\n 'drive',\n 'buffalo',\n 'ny',\n 'african',\n 'american',\n 'humanism',\n 'organization',\n 'promote',\n 'black',\n 'secular',\n 'humanism',\n 'uncover',\n 'history',\n 'black',\n 'freethought',\n 'publish',\n 'quarterly',\n 'newsletter',\n 'aah',\n 'examiner',\n 'write',\n 'norm',\n 'allen',\n 'jr',\n 'african',\n 'american',\n 'humanism',\n 'box',\n 'buffalo',\n 'ny',\n 'united',\n 'kingdom',\n 'rationalist',\n 'press',\n 'association',\n 'national',\n 'secular',\n 'society',\n 'islington',\n 'high',\n 'street',\n 'holloway',\n 'road',\n 'london',\n 'ew',\n 'london',\n 'nl',\n 'british',\n 'humanist',\n 'association',\n 'south',\n 'place',\n 'ethical',\n 'society',\n 'lamb',\n 'conduit',\n 'passage',\n 'conway',\n 'hall',\n 'london',\n 'wc',\n 'rh',\n 'red',\n 'lion',\n 'square',\n 'london',\n 'wc',\n 'rl',\n 'fax',\n 'national',\n 'secular',\n 'society',\n 'publish',\n 'freethinker',\n 'monthly',\n 'magazine',\n 'found',\n 'germany',\n 'ibka',\n 'internationaler',\n 'bund',\n 'der',\n 'konfessionslosen',\n 'und',\n 'atheisten',\n 'postfach',\n 'berlin',\n 'germany',\n 'ibka',\n 'publish',\n 'journal',\n 'miz',\n 'materialien',\n 'und',\n 'informationen',\n 'zur',\n 'zeit',\n 'politisches',\n 'journal',\n 'der',\n 'konfessionslosesn',\n 'und',\n 'atheisten',\n 'hrsg',\n 'ibka',\n 'miz',\n 'vertrieb',\n 'postfach',\n 'berlin',\n 'germany',\n 'atheist',\n 'book',\n 'write',\n 'ibdk',\n 'internationaler',\n 'ucherdienst',\n 'der',\n 'konfessionslosen',\n 'postfach',\n 'hannover',\n 'germany',\n 'telephone',\n 'book',\n 'fiction',\n 'thomas',\n 'disch',\n 'santa',\n 'claus',\n 'compromise',\n 'short',\n 'story',\n 'ultimate',\n 'proof',\n 'santa',\n 'exist',\n 'character',\n 'event',\n 'fictitious',\n 'similarity',\n 'living',\n 'dead',\n 'god',\n 'uh',\n 'walter',\n 'miller',\n 'jr',\n 'canticle',\n 'leibowitz',\n 'gem',\n 'post',\n 'atomic',\n 'doomsday',\n 'novel',\n 'monk',\n 'spend',\n 'life',\n 'copy',\n 'blueprint',\n 'saint',\n 'leibowitz',\n 'fill',\n 'sheet',\n 'paper',\n 'ink',\n 'leave',\n 'white',\n 'line',\n 'letter',\n 'edgar',\n 'pangborn',\n 'davy',\n 'post',\n 'atomic',\n 'doomsday',\n 'novel',\n 'set',\n 'clerical',\n 'state',\n 'church',\n 'example',\n 'forbids',\n 'produce',\n 'use',\n 'substance',\n 'containing',\n 'atom',\n 'philip',\n 'dick',\n 'philip',\n 'dick',\n 'dick',\n 'write',\n 'philosophical',\n 'think',\n 'provoke',\n 'short',\n 'story',\n 'novel',\n 'story',\n 'bizarre',\n 'time',\n 'approachable',\n 'write',\n 'mainly',\n 'sf',\n 'write',\n 'people',\n 'truth',\n 'religion',\n 'technology',\n 'believe',\n 'meet',\n 'sort',\n 'god',\n 'remain',\n 'sceptical',\n 'novel',\n 'follow',\n 'relevance',\n 'galactic',\n 'pot',\n 'healer',\n 'fallible',\n 'alien',\n 'deity',\n 'summons',\n 'group',\n 'earth',\n 'craftsman',\n 'woman',\n 'remote',\n 'planet',\n 'raise',\n 'giant',\n 'cathedral',\n 'beneath',\n 'ocean',\n 'deity',\n 'begin',\n 'demand',\n 'faith',\n 'earthers',\n 'pot',\n 'healer',\n 'joe',\n 'fernwright',\n 'unable',\n 'comply',\n 'polished',\n 'ironic',\n 'amuse',\n 'novel',\n 'maze',\n 'death',\n 'noteworthy',\n 'description',\n 'technology',\n 'base',\n 'religion',\n 'vali',\n 'schizophrenic',\n 'hero',\n 'search',\n 'hidden',\n 'mystery',\n 'gnostic',\n 'christianity',\n 'reality',\n 'fire',\n 'brain',\n 'pink',\n 'laser',\n 'beam',\n 'unknown',\n 'possibly',\n 'divine',\n 'origin',\n 'accompany',\n 'dogmatic',\n 'dismissively',\n 'atheist',\n 'friend',\n 'assort',\n 'odd',\n 'character',\n 'divine',\n 'invasion',\n 'god',\n 'invades',\n 'earth',\n 'make',\n 'young',\n 'woman',\n 'pregnant',\n 'return',\n 'star',\n 'system',\n 'unfortunately',\n 'terminally',\n 'ill',\n 'assist',\n 'dead',\n 'man',\n 'brain',\n 'wire',\n 'hour',\n 'easy',\n 'listen',\n 'music',\n 'margaret',\n 'atwood',\n 'handmaid',\n 'tale',\n 'story',\n 'base',\n 'premise',\n 'congress',\n 'mysteriously',\n 'assassinate',\n 'fundamentalist',\n 'quickly',\n 'charge',\n 'nation',\n 'set',\n 'right',\n 'book',\n 'diary',\n 'woman',\n 'life',\n 'try',\n 'live',\n 'new',\n 'christian',\n 'theocracy',\n 'woman',\n 'right',\n 'property',\n 'revoke',\n 'bank',\n 'account',\n 'close',\n 'sinful',\n 'luxury',\n 'outlaw',\n 'radio',\n 'use',\n 'reading',\n 'bible',\n 'crime',\n 'punish',\n 'retroactively',\n 'doctor',\n 'perform',\n 'legal',\n 'abortion',\n 'old',\n 'world',\n 'hunt',\n 'hang',\n 'atwood',\n 'write',\n 'style',\n 'difficult',\n 'use',\n 'tale',\n 'grow',\n 'chilling',\n 'go',\n 'various',\n 'author',\n 'bible',\n 'somewhat',\n 'dull',\n 'ramble',\n 'work',\n 'criticize',\n 'probably',\n 'worth',\n 'read',\n 'know',\n 'fuss',\n 'exist',\n 'different',\n 'version',\n 'make',\n 'sure',\n 'true',\n 'version',\n 'book',\n 'non',\n 'fiction',\n 'peter',\n 'rosa',\n 'vicar',\n 'christ',\n 'bantam',\n 'press',\n 'rosa',\n 'christian',\n 'catholic',\n 'enlighting',\n 'history',\n 'papal',\n 'immorality',\n 'adultery',\n 'fallacy',\n 'german',\n 'translation',\n 'gottes',\n 'erste',\n 'diener',\n 'die',\n 'dunkle',\n 'seite',\n 'de',\n 'papsttums',\n 'droemer',\n 'knaur',\n 'michael',\n 'martin',\n 'atheism',\n 'philosophical',\n 'justification',\n 'temple',\n 'university',\n 'press',\n 'philadelphia',\n 'usa',\n 'detailed',\n 'scholarly',\n 'justification',\n 'atheism',\n 'contain',\n 'outstanding',\n 'appendix',\n 'define',\n 'terminology',\n 'usage',\n 'necessarily',\n 'tendentious',\n 'area',\n 'argue',\n 'negative',\n 'atheism',\n 'non',\n 'belief',\n 'existence',\n 'god',\n 'positive',\n 'atheism',\n 'belief',\n 'non',\n 'existence',\n 'god',\n 'include',\n 'great',\n 'refutation',\n 'challenging',\n 'argument',\n 'god',\n 'particular',\n 'attention',\n 'pay',\n 'refute',\n 'contempory',\n 'theist',\n 'platinga',\n 'swinburne',\n 'page',\n 'isbn',\n 'hardcover',\n 'paperback',\n 'available',\n 'case',\n 'christianity',\n 'temple',\n 'university',\n 'press',\n 'comprehensive',\n 'critique',\n 'christianity',\n 'consider',\n 'best',\n 'contemporary',\n 'defence',\n 'christianity',\n 'ultimately',\n 'demonstrate',\n 'unsupportable',\n 'incoherent',\n 'page',\n 'isbn',\n 'james',\n 'turner',\n 'god',\n 'creed',\n 'john',\n 'hopkins',\n 'university',\n 'press',\n 'baltimore',\n 'md',\n 'usa',\n 'subtitle',\n 'origin',\n 'unbelief',\n 'america',\n 'examines',\n 'way',\n 'unbelief',\n 'agnostic',\n 'atheistic',\n 'mainstream',\n 'alternative',\n 'world',\n 'view',\n 'focus',\n 'period',\n 'consider',\n 'france',\n 'britain',\n 'emphasis',\n 'american',\n 'particularly',\n 'new',\n 'england',\n 'development',\n 'religious',\n 'history',\n 'secularization',\n 'atheism',\n 'god',\n 'creed',\n 'intellectual',\n 'history',\n 'fate',\n 'single',\n 'idea',\n 'belief',\n 'god',\n 'exist',\n 'page',\n 'isbn',\n 'hardcover',\n 'paper',\n 'george',\n 'seldes',\n 'editor',\n 'great',\n 'thought',\n 'ballantine',\n 'book',\n 'new',\n 'york',\n 'usa',\n 'dictionary',\n 'quotation',\n 'different',\n 'kind',\n 'concentrate',\n 'statement',\n 'writing',\n 'explicitly',\n 'implicitly',\n 'present',\n 'person',\n 'philosophy',\n 'world',\n 'view',\n 'include',\n 'obscure',\n 'suppressed',\n 'opinion',\n 'people',\n 'popular',\n 'observation',\n 'trace',\n 'way',\n 'various',\n 'people',\n 'express',\n 'twist',\n 'idea',\n 'century',\n 'quite',\n 'number',\n 'quotation',\n 'derive',\n 'cardiff',\n 'great',\n 'men',\n 'think',\n 'religion',\n 'noyes',\n 'view',\n 'religion',\n 'page',\n 'isbn',\n 'paper',\n 'richard',\n 'swinburne',\n 'existence',\n 'god',\n 'revise',\n 'edition',\n 'clarendon',\n 'paperback',\n 'oxford',\n 'book',\n 'second',\n 'volume',\n 'trilogy',\n 'begin',\n 'coherence',\n 'theism',\n 'conclude',\n 'faith',\n 'reason',\n 'work',\n 'swinburne',\n 'attempt',\n 'construct',\n 'series',\n 'inductive',\n 'argument',\n 'existence',\n 'god',\n 'argument',\n 'somewhat',\n 'tendentious',\n 'rely',\n 'imputation',\n 'late',\n 'th',\n 'century',\n 'western',\n 'christian',\n 'value',\n 'aesthetic',\n 'god',\n 'supposedly',\n 'simple',\n 'conceive',\n 'decisively',\n 'reject',\n 'mackie',\n 'miracle',\n 'theism',\n 'revised',\n 'edition',\n 'existence',\n 'god',\n 'swinburne',\n 'include',\n 'appendix',\n 'make',\n 'somewhat',\n 'incoherent',\n 'attempt',\n 'rebut',\n 'mackie',\n 'mackie',\n 'miracle',\n 'theism',\n 'oxford',\n 'posthumous',\n 'volume',\n 'contain',\n 'comprehensive',\n 'review',\n 'principal',\n 'argument',\n 'existence',\n 'god',\n 'range',\n 'classical',\n 'philosophical',\n 'position',\n 'descartes',\n 'anselm',\n 'berkeley',\n 'hume',\n 'et',\n 'al',\n 'moral',\n 'argument',\n 'newman',\n 'kant',\n 'sidgwick',\n 'recent',\n 'restatement',\n 'classical',\n 'thesis',\n 'plantinga',\n 'swinburne',\n 'address',\n 'position',\n 'push',\n 'concept',\n 'god',\n 'realm',\n 'rational',\n 'kierkegaard',\n 'kung',\n 'philip',\n 'replacement',\n 'god',\n 'lelie',\n 'axiarchism',\n 'book',\n 'delight',\n 'read',\n 'formalistic',\n 'well',\n 'write',\n 'martin',\n 'work',\n 'refreshingly',\n 'direct',\n 'compare',\n 'hand',\n 'waving',\n 'swinburne',\n 'james',\n 'haught',\n 'holy',\n 'horror',\n 'illustrated',\n 'history',\n 'religious',\n 'murder',\n 'madness',\n 'prometheus',\n 'book',\n 'look',\n 'religious',\n 'persecution',\n 'ancient',\n 'time',\n 'present',\n 'day',\n 'christian',\n 'library',\n 'congress',\n 'catalog',\n 'card',\n 'number',\n 'norm',\n 'allen',\n 'jr',\n 'african',\n 'american',\n 'humanism',\n 'anthology',\n 'listing',\n 'african',\n 'american',\n 'humanism',\n 'gordon',\n 'stein',\n 'anthology',\n 'atheism',\n 'rationalism',\n 'prometheus',\n 'book',\n 'anthology',\n 'cover',\n 'wide',\n 'range',\n 'subject',\n 'include',\n 'devil',\n 'evil',\n 'morality',\n 'history',\n 'freethought',\n 'comprehensive',\n 'bibliography',\n 'edmund',\n 'cohen',\n 'mind',\n 'bible',\n 'believer',\n 'prometheus',\n 'book',\n 'study',\n 'people',\n 'christian',\n 'fundamentalist',\n 'effect',\n 'net',\n 'resource',\n 'small',\n 'mail',\n 'base',\n 'archive',\n 'server',\n 'mantis',\n 'uk',\n 'carry',\n 'archive',\n 'old',\n 'alt',\n 'atheism',\n 'moderate',\n 'article',\n 'assort',\n 'file',\n 'information',\n 'send',\n 'mail',\n 'archive',\n 'server',\n 'mantis',\n 'uk',\n 'say',\n 'help',\n 'send',\n 'atheism',\n 'index',\n 'mail',\n 'reply',\n 'mathew']"
     },
     "metadata": {},
     "execution_count": 24
    }
   ],
   "source": [
    "merged_data2['x'][0]"
   ]
  },
  {
   "cell_type": "code",
   "execution_count": 27,
   "metadata": {},
   "outputs": [
    {
     "output_type": "execute_result",
     "data": {
      "text/plain": "0"
     },
     "metadata": {},
     "execution_count": 27
    }
   ],
   "source": [
    "merged_data2['y'][0]"
   ]
  },
  {
   "cell_type": "code",
   "execution_count": 3,
   "metadata": {},
   "outputs": [],
   "source": [
    "import pickle\n",
    "import tensorflow as tf"
   ]
  },
  {
   "cell_type": "code",
   "execution_count": 4,
   "metadata": {},
   "outputs": [],
   "source": [
    "with tf.gfile.Open(os.path.join(\"../data\", \"vocab2K.pkl\"), 'rb') as f:\n",
    "    word2freq = pickle.load(f)\n",
    "    word2freq = sorted(word2freq.items(), key=lambda x: x[1], reverse=True)\n",
    "    words = [t[0] for t in word2freq]\n",
    "    word2idx = dict(zip(words, range(len(words))))"
   ]
  },
  {
   "cell_type": "code",
   "execution_count": 5,
   "metadata": {},
   "outputs": [],
   "source": [
    "A = pickle.load(f)"
   ]
  },
  {
   "cell_type": "code",
   "execution_count": 7,
   "metadata": {},
   "outputs": [
    {
     "output_type": "execute_result",
     "data": {
      "text/plain": "dict"
     },
     "metadata": {},
     "execution_count": 7
    }
   ],
   "source": [
    "type(A)"
   ]
  },
  {
   "cell_type": "code",
   "execution_count": 11,
   "metadata": {},
   "outputs": [],
   "source": [
    "with tf.gfile.Open(\"test.pkl\", \"w+\") as file1:\n",
    "    pickle.dump(A, file1)"
   ]
  },
  {
   "cell_type": "code",
   "execution_count": null,
   "metadata": {},
   "outputs": [],
   "source": []
  }
 ]
}